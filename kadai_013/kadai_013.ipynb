{
  "nbformat": 4,
  "nbformat_minor": 0,
  "metadata": {
    "colab": {
      "provenance": []
    },
    "kernelspec": {
      "name": "python3",
      "display_name": "Python 3"
    },
    "language_info": {
      "name": "python"
    }
  },
  "cells": [
    {
      "cell_type": "code",
      "execution_count": 2,
      "metadata": {
        "colab": {
          "base_uri": "https://localhost:8080/"
        },
        "id": "vtHjH_fYc1iY",
        "outputId": "00c779cb-28ca-4421-97e3-acc8e03ab1fb"
      },
      "outputs": [
        {
          "output_type": "execute_result",
          "data": {
            "text/plain": [
              "1650.0"
            ]
          },
          "metadata": {},
          "execution_count": 2
        }
      ],
      "source": [
        "def calculate_TaxIncluded(price,tax):\n",
        "    TaxIncluded = price * (100 + tax)/100\n",
        "    return TaxIncluded\n",
        "\n",
        "calculate_TaxIncluded(1500,10)"
      ]
    }
  ]
}