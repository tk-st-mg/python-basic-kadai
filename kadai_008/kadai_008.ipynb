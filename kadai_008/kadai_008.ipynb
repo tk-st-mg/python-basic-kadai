{
  "nbformat": 4,
  "nbformat_minor": 0,
  "metadata": {
    "colab": {
      "provenance": []
    },
    "kernelspec": {
      "name": "python3",
      "display_name": "Python 3"
    },
    "language_info": {
      "name": "python"
    }
  },
  "cells": [
    {
      "cell_type": "code",
      "execution_count": 41,
      "metadata": {
        "colab": {
          "base_uri": "https://localhost:8080/"
        },
        "id": "Bcubss2uAJ42",
        "outputId": "c636a1e2-4ebd-474b-d220-ec95f9bbce8e"
      },
      "outputs": [
        {
          "output_type": "stream",
          "name": "stdout",
          "text": [
            "FizzBuzz\n"
          ]
        }
      ],
      "source": [
        "import random\n",
        "\n",
        "var = random.randint(0,1000)\n",
        "\n",
        "if var % 15 == 0 and var != 0:\n",
        "    print(\"FizzBuzz\")\n",
        "elif var % 3 == 0 and var != 0:\n",
        "    print(\"Fizz\")\n",
        "elif var % 5 == 0 and var != 0:\n",
        "    print(\"Buzz\")\n",
        "else:\n",
        "    print(var)"
      ]
    }
  ]
}