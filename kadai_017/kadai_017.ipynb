{
  "nbformat": 4,
  "nbformat_minor": 0,
  "metadata": {
    "colab": {
      "provenance": []
    },
    "kernelspec": {
      "name": "python3",
      "display_name": "Python 3"
    },
    "language_info": {
      "name": "python"
    }
  },
  "cells": [
    {
      "cell_type": "code",
      "execution_count": 14,
      "metadata": {
        "colab": {
          "base_uri": "https://localhost:8080/"
        },
        "id": "fAJllo8BEb7L",
        "outputId": "908d7e0d-dee3-4e31-a2e3-d467661be0e9"
      },
      "outputs": [
        {
          "output_type": "stream",
          "name": "stdout",
          "text": [
            "侍太郎は大人です。\n",
            "侍二郎は大人です。\n",
            "侍三郎は未成年です。\n"
          ]
        }
      ],
      "source": [
        "class Human:\n",
        "    def __init__(self,name,age):\n",
        "        self.name = name\n",
        "        self.age = age\n",
        "\n",
        "    def check_adult(self):\n",
        "        if (int(self.age) >= 20):\n",
        "            print(f\"{self.name}は大人です。\")\n",
        "\n",
        "        else:\n",
        "            print(f\"{self.name}は未成年です。\")\n",
        "\n",
        "user1 = Human(\"侍太郎\",\"25\")\n",
        "user2 = Human(\"侍二郎\",\"20\")\n",
        "user3 = Human(\"侍三郎\",\"18\")\n",
        "\n",
        "list = [user1,user2,user3]\n",
        "\n",
        "for i in list:\n",
        "    i.check_adult()"
      ]
    }
  ]
}